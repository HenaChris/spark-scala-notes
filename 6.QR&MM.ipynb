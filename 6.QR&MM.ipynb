{
 "cells": [
  {
   "cell_type": "markdown",
   "metadata": {},
   "source": [
    "## 六，qr&MM\n",
    "\n",
    "### *(一)分位数回归*\n",
    "\n",
    "![1555133271812](https://github.com/HenaChris/-/blob/master/qr1.jpg?raw=true)\n",
    "\n",
    "![qr2](https://github.com/HenaChris/-/blob/master/qr2.jpg?raw=true)\n",
    "\n"
   ]
  },
  {
   "cell_type": "markdown",
   "metadata": {},
   "source": [
    "**定义分位数回归：**\n",
    "<center>$Q_y(τ|x) = α_0 + α_1*x_1+α_2*x_2+....+α_n*x_n$\n"
   ]
  },
  {
   "cell_type": "markdown",
   "metadata": {},
   "source": [
    "**分位数岭回归的目标函数为**：\n",
    "<center>$min_β \\frac{1}{n} \\sum_{i=1}^{n}ρ_τ(y_i - x_i^{T}β)+λ_n‖ β ‖_2^{2}$"
   ]
  },
  {
   "cell_type": "markdown",
   "metadata": {},
   "source": [
    "**中位数回归的目标函数为：**\n",
    "<center>$min_β\\sum_{i=1}^{n}|y_i-x_i^β|$"
   ]
  },
  {
   "cell_type": "markdown",
   "metadata": {},
   "source": [
    "不能直接求导数计算，因此要引入MM算法进行计算。\n",
    "\n"
   ]
  },
  {
   "cell_type": "markdown",
   "metadata": {},
   "source": [
    "### *(二) MM算法*"
   ]
  },
  {
   "cell_type": "markdown",
   "metadata": {},
   "source": [
    "MM算法的主要思想：\n",
    "找到一个辅助函数$Q(θ|θ^{t})$，去逼近似然函数$l(\\theta|Y_{obs})$。步骤如下："
   ]
  },
  {
   "cell_type": "markdown",
   "metadata": {},
   "source": [
    "<center>令：$Q(θ|θ^{t})\\leq l(\\theta|Y_{obs})$,for any $\\theta∈Θ$\n"
   ]
  },
  {
   "cell_type": "markdown",
   "metadata": {},
   "source": [
    "<center>仅当$\\theta=\\theta^{(t)}$时，有$Q(θ_{(t)}|θ^{t})=l(\\theta|Y_{obs})$"
   ]
  },
  {
   "cell_type": "markdown",
   "metadata": {},
   "source": [
    "MM算法不直接最大化$l(\\theta|Y_{obs})$，而是最大化$Q(θ|θ^{t})$：\n",
    "<center>$θ^{(t+1)} = argmaxQ(\\theta|\\theta_{(t)})$"
   ]
  },
  {
   "cell_type": "markdown",
   "metadata": {},
   "source": [
    "在这个过程中，我们最大化Q函数的同时，也在最大化似然函数：\n",
    "<center>$l(\\theta^{(t+1)}|Y_obs) \\ge Q(\\theta^{(t+1)}|\\theta) \\ge Q(\\theta^{(t)}|\\theta)=l(\\theta^{(t)}|Y_{obs})$"
   ]
  },
  {
   "cell_type": "markdown",
   "metadata": {},
   "source": [
    "### *（三）MM算法计算中位数回归*"
   ]
  },
  {
   "cell_type": "markdown",
   "metadata": {},
   "source": [
    "1. 令$Q(β|β^{(l)}) = \\sum_{i=1}^{n}\\frac{(y_i-X_i^Tβ)^2}{2|y_i-X_i^Tβ^{(l)}|} + \\frac{1}{2}|y_i-X_i^Tβ^{(l)}|$\n",
    "    \n",
    "2. 初始的β值为OLS估计\n",
    "\n",
    "3. 给定$β^{(l)}$，可以计算$w_i=|y_i-x_i^Tβ^{(l)}|$\n",
    "\n",
    "4. $W_{(l)}={diag(w_i^{(l)})}^{-1}$,对Q函数求导即可得之。\n",
    "5. 重复以上步骤"
   ]
  },
  {
   "cell_type": "code",
   "execution_count": 1,
   "metadata": {},
   "outputs": [
    {
     "name": "stdout",
     "output_type": "stream",
     "text": [
      "[[2.99323549]\n",
      " [4.97875694]]\n"
     ]
    }
   ],
   "source": [
    "import numpy as np\n",
    "import numpy.linalg as la\n",
    "import matplotlib.pyplot as plt\n",
    "n=100\n",
    "\n",
    "#data generation\n",
    "x1=np.random.randn(n,1)\n",
    "x2=np.random.randn(n,1)\n",
    "X=np.hstack((x1,x2))\n",
    "error = np.random.randn(n,1)*0.2\n",
    "y =3*x1+5*x2+error\n",
    "\n",
    "#中位数回归\n",
    "def reg_llw(x,y,tol):\n",
    "    beta1 = la.inv(X.T.dot(X)).dot(X.T).dot(y)#默认的β1\n",
    "    diff = 1\n",
    "    iter = 0\n",
    "    path = []\n",
    "    while np.abs(diff)>tol:#当目标函数差异小于容忍度时停止迭代\n",
    "        iter = iter + 1\n",
    "        L1sum0 = np.sum(np.abs(y-X.dot(beta1)))#目标函数\n",
    "        w = np.abs(y - X.dot(beta1))\n",
    "        W = np.diag(w.ravel()**(-1))\n",
    "        beta1 = la.inv(X.T.dot(W).dot(X)).dot(X.T).dot(W).dot(y)#计算替代函数的最小值。\n",
    "        L1sum1 = np.sum(np.abs(y - X.dot(beta1)))\n",
    "        diff = L1sum1 - L1sum0#计算两次迭代的差异，差异小于容忍度时停止迭代\n",
    "        path.append(L1sum0)#查看目标函数是否在减小\n",
    "    return  beta1,iter,path\n",
    "(beta1,iter,path) = reg_llw(X,y,0.00005)\n",
    "print(beta1)"
   ]
  },
  {
   "cell_type": "code",
   "execution_count": null,
   "metadata": {},
   "outputs": [],
   "source": []
  }
 ],
 "metadata": {
  "kernelspec": {
   "display_name": "Python 3",
   "language": "python",
   "name": "python3"
  },
  "language_info": {
   "codemirror_mode": {
    "name": "ipython",
    "version": 3
   },
   "file_extension": ".py",
   "mimetype": "text/x-python",
   "name": "python",
   "nbconvert_exporter": "python",
   "pygments_lexer": "ipython3",
   "version": "3.7.1"
  }
 },
 "nbformat": 4,
 "nbformat_minor": 2
}
