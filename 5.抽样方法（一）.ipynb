{
 "cells": [
  {
   "cell_type": "markdown",
   "metadata": {},
   "source": [
    "## 五：抽样方法（一）\n",
    "\n",
    "#### 1.反函数法\n",
    "令$u_1 ,...,u_k$ ,服从均匀分布，让$x_i =F^{-1} (u_i),x~k~ = F^{-1} (u_i)$，那么$x_i$ 服从分布F。"
   ]
  },
  {
   "cell_type": "markdown",
   "metadata": {},
   "source": [
    "~~~scala\n",
    "import org.apache.log4j.{Level, Logger}\n",
    "import org.apache.spark.{SparkConf, SparkContext}\n",
    "import org.apache.spark.mllib.random.RandomRDDs._\n",
    "\n",
    "val conf = new SparkConf().setAppName(\"run\").setMaster(\"local[2]\")\n",
    "val sc = new SparkContext(conf)\n",
    "val unif = uniformRDD(sc,1000,1).map(x => -math.log(x))\n",
    "print(unif)\n",
    "import java.util.concurrent.ThreadLocalRandom\n",
    "val r = ThreadLocalRandom.current()\n",
    "print(r)\n",
    "val OurExpRVs = (1 to 1000).map( x =>r.nextDouble).map(x => -math.log(x)).toArray[Double]\n",
    "~~~"
   ]
  },
  {
   "cell_type": "markdown",
   "metadata": {},
   "source": [
    "#### 2.拒绝接受法\n",
    "\n",
    "- 找到c与g(x)，使得$f(x)\\leq cg(x)$ 在二者的定义域内恒成立\n",
    "- 产生密度函数是$g_y$ 的随机数$y_i$ ，以及服从均匀分布的随机数$u_i$\n",
    "- 如果$u_i \\leq\\frac {f(x)}{cg(x)}$成立，那么认为此$y_i$ 是来自$f(x)$ 的分布。\n",
    "- 因为可以证明的是$f(x|U\\leq U(y)) = f(x)$\n",
    "- c越小，接受度越高\n",
    "- $c_{optimal} = min_\\theta  max_x\\frac {f(x)}{g_{\\theta}(x)}$\n",
    "- 拉普拉斯分布可以用来产生正态分布随机数\n",
    "\n",
    "\n",
    "\n",
    "#### 3.重要抽样法（SIR）\n",
    "\n",
    "- $w(X^{(j)})=\\frac {f(X^{(j)})}{g(X^{(j)})} $,计算每个样本的权重，以及对应概率$w_j = \\frac {w(X^{(j)})}{\\sum_{i=1}^{100}{w(X^{(i)})}}$\n",
    "\n",
    "- 生成i.i.d的备选样本$x_1,....,x_n$ 服从$g(x)$\n",
    "\n",
    "- 以概率$w_j$ 再从$x_1,....,x_n$ 抽出m个样本\n",
    "\n",
    "- 此时的$x_i(i=1,..,m)$近似服从$f(x)$\n",
    "\n",
    "- $j/m$ ，越大越好，一般来说1要大于10或20\n",
    "\n",
    "  "
   ]
  },
  {
   "cell_type": "code",
   "execution_count": null,
   "metadata": {},
   "outputs": [],
   "source": []
  }
 ],
 "metadata": {
  "kernelspec": {
   "display_name": "Python 3",
   "language": "python",
   "name": "python3"
  },
  "language_info": {
   "codemirror_mode": {
    "name": "ipython",
    "version": 3
   },
   "file_extension": ".py",
   "mimetype": "text/x-python",
   "name": "python",
   "nbconvert_exporter": "python",
   "pygments_lexer": "ipython3",
   "version": "3.7.1"
  }
 },
 "nbformat": 4,
 "nbformat_minor": 2
}
